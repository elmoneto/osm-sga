{
 "cells": [
  {
   "cell_type": "code",
   "execution_count": 10,
   "metadata": {},
   "outputs": [],
   "source": [
    "import time\n",
    "import pandas as pd\n",
    "import numpy as np\n",
    "import requests as rq\n",
    "from bs4 import BeautifulSoup"
   ]
  },
  {
   "cell_type": "code",
   "execution_count": 11,
   "metadata": {},
   "outputs": [],
   "source": [
    "cod_inicio = 5206 #primeira noticia no mandato 2017-2020\n",
    "cod_fim = 5210\n",
    "url_base = 'https://www.saogabriel.rs.gov.br/Portal/noticia/leitura/'"
   ]
  },
  {
   "cell_type": "code",
   "execution_count": 12,
   "metadata": {},
   "outputs": [],
   "source": [
    "headers = {\n",
    "        'user-agent': 'Mozilla/5.0 (X11; Linux x86_64; rv:80.0) Gecko/20100101 Firefox/80.0',\n",
    "    }\n"
   ]
  },
  {
   "cell_type": "code",
   "execution_count": 13,
   "metadata": {},
   "outputs": [
    {
     "name": "stdout",
     "output_type": "stream",
     "text": [
      "https://www.saogabriel.rs.gov.br/Portal/noticia/leitura/5206\n",
      "https://www.saogabriel.rs.gov.br/Portal/noticia/leitura/5207\n",
      "https://www.saogabriel.rs.gov.br/Portal/noticia/leitura/5208\n",
      "https://www.saogabriel.rs.gov.br/Portal/noticia/leitura/5209\n",
      "https://www.saogabriel.rs.gov.br/Portal/noticia/leitura/5210\n"
     ]
    }
   ],
   "source": [
    "ll = []\n",
    "for i in range(cod_inicio,cod_fim+1):\n",
    "    url_atual = url_base + str(i)\n",
    "    l = []\n",
    "    print(url_atual)\n",
    "    r = rq.get(url_atual,headers=headers)\n",
    "    conteudo = r.content\n",
    "    soup = BeautifulSoup(conteudo, 'html.parser')\n",
    "    titulo_pagina = soup.find(name=\"title\")\n",
    "    titulo_pagina = str(titulo_pagina)\n",
    "    if titulo_pagina == \"<title>PHP notice</title>\":\n",
    "       continue \n",
    "    div_conteudo = soup.find(id='content')\n",
    "    titulo = str(div_conteudo.find(name = 'h1').contents)\n",
    "    data = soup.find_all(class_='data')\n",
    "    data = str(data[0].contents)\n",
    "    paragrafos = div_conteudo.find_all(name='p')\n",
    "    p = str(paragrafos[1].contents)\n",
    "    l.append(str(i))\n",
    "    l.append(titulo)\n",
    "    l.append(p)\n",
    "    l.append(data)\n",
    "    ll.append(l)\n",
    "    time.sleep(1)"
   ]
  },
  {
   "cell_type": "code",
   "execution_count": 14,
   "metadata": {},
   "outputs": [
    {
     "data": {
      "text/html": [
       "<div>\n",
       "<style scoped>\n",
       "    .dataframe tbody tr th:only-of-type {\n",
       "        vertical-align: middle;\n",
       "    }\n",
       "\n",
       "    .dataframe tbody tr th {\n",
       "        vertical-align: top;\n",
       "    }\n",
       "\n",
       "    .dataframe thead th {\n",
       "        text-align: right;\n",
       "    }\n",
       "</style>\n",
       "<table border=\"1\" class=\"dataframe\">\n",
       "  <thead>\n",
       "    <tr style=\"text-align: right;\">\n",
       "      <th></th>\n",
       "      <th>ID</th>\n",
       "      <th>Título</th>\n",
       "      <th>Conteúdo</th>\n",
       "      <th>Data</th>\n",
       "    </tr>\n",
       "  </thead>\n",
       "  <tbody>\n",
       "    <tr>\n",
       "      <th>0</th>\n",
       "      <td>5206</td>\n",
       "      <td>['São Gabriel tem nova gestão: Rossano e Karen...</td>\n",
       "      <td>['O primeiro dia de 2017 marcou o início de um...</td>\n",
       "      <td>['São Gabriel, 02/01/2017']</td>\n",
       "    </tr>\n",
       "    <tr>\n",
       "      <th>1</th>\n",
       "      <td>5207</td>\n",
       "      <td>['Prefeito dá posse aos novos secretários.    ...</td>\n",
       "      <td>['A palavra de ordem é: comprometimento e resp...</td>\n",
       "      <td>['São Gabriel, 02/01/2017']</td>\n",
       "    </tr>\n",
       "    <tr>\n",
       "      <th>2</th>\n",
       "      <td>5208</td>\n",
       "      <td>['Prefeitura terá expediente interno até quart...</td>\n",
       "      <td>['Com o propósito de averiguar todos os docume...</td>\n",
       "      <td>['São Gabriel, 02/01/2017']</td>\n",
       "    </tr>\n",
       "    <tr>\n",
       "      <th>3</th>\n",
       "      <td>5209</td>\n",
       "      <td>['Prefeito cria Grupo de Trabalho para ações e...</td>\n",
       "      <td>['Além de traçar o diagnóstico do atual estado...</td>\n",
       "      <td>['São Gabriel, 03/01/2017']</td>\n",
       "    </tr>\n",
       "    <tr>\n",
       "      <th>4</th>\n",
       "      <td>5210</td>\n",
       "      <td>['Rossano e Karen tomam posse em São Gabriel e...</td>\n",
       "      <td>['O primeiro dia de 2017 marcou o início de um...</td>\n",
       "      <td>['São Gabriel, 03/01/2017']</td>\n",
       "    </tr>\n",
       "  </tbody>\n",
       "</table>\n",
       "</div>"
      ],
      "text/plain": [
       "     ID                                             Título  \\\n",
       "0  5206  ['São Gabriel tem nova gestão: Rossano e Karen...   \n",
       "1  5207  ['Prefeito dá posse aos novos secretários.    ...   \n",
       "2  5208  ['Prefeitura terá expediente interno até quart...   \n",
       "3  5209  ['Prefeito cria Grupo de Trabalho para ações e...   \n",
       "4  5210  ['Rossano e Karen tomam posse em São Gabriel e...   \n",
       "\n",
       "                                            Conteúdo  \\\n",
       "0  ['O primeiro dia de 2017 marcou o início de um...   \n",
       "1  ['A palavra de ordem é: comprometimento e resp...   \n",
       "2  ['Com o propósito de averiguar todos os docume...   \n",
       "3  ['Além de traçar o diagnóstico do atual estado...   \n",
       "4  ['O primeiro dia de 2017 marcou o início de um...   \n",
       "\n",
       "                          Data  \n",
       "0  ['São Gabriel, 02/01/2017']  \n",
       "1  ['São Gabriel, 02/01/2017']  \n",
       "2  ['São Gabriel, 02/01/2017']  \n",
       "3  ['São Gabriel, 03/01/2017']  \n",
       "4  ['São Gabriel, 03/01/2017']  "
      ]
     },
     "execution_count": 14,
     "metadata": {},
     "output_type": "execute_result"
    }
   ],
   "source": [
    "df = pd.DataFrame(ll, columns=[\"ID\",\"Título\", \"Conteúdo\",\"Data\"])\n",
    "df"
   ]
  },
  {
   "cell_type": "code",
   "execution_count": 15,
   "metadata": {},
   "outputs": [],
   "source": [
    "df.to_csv('saida.csv', index=False)"
   ]
  }
 ],
 "metadata": {
  "kernelspec": {
   "display_name": "Python 3",
   "language": "python",
   "name": "python3"
  },
  "language_info": {
   "codemirror_mode": {
    "name": "ipython",
    "version": 3
   },
   "file_extension": ".py",
   "mimetype": "text/x-python",
   "name": "python",
   "nbconvert_exporter": "python",
   "pygments_lexer": "ipython3",
   "version": "3.8.3"
  }
 },
 "nbformat": 4,
 "nbformat_minor": 4
}
